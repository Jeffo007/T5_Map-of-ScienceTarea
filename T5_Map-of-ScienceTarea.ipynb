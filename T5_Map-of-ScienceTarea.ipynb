{
 "cells": [
  {
   "cell_type": "markdown",
   "id": "fab937e1",
   "metadata": {},
   "source": [
    "<img src=\"https://www.ikiam.edu.ec/img/logo-ikiam-grey.png\" width=300 height=240 />\n",
    "\n",
    "# T5_Map-of-ScienceTarea\n",
    "\n",
    "## GBI6-2021II: BIOINFORMÁTICA\n",
    "\n",
    "**Sánchez Chicaiza Jefferson Miguel**\n",
    "\n",
    "**16-02-2022**"
   ]
  },
  {
   "cell_type": "code",
   "execution_count": 1,
   "id": "031fdc47",
   "metadata": {},
   "outputs": [],
   "source": [
    "import re\n",
    "import csv\n"
   ]
  },
  {
   "cell_type": "code",
   "execution_count": 3,
   "id": "8ea367c9",
   "metadata": {},
   "outputs": [],
   "source": [
    "with open ('./pubmed-GDMheavyme-set.txt') as f:\n",
    "    my_text = f.read()"
   ]
  },
  {
   "cell_type": "code",
   "execution_count": 4,
   "id": "79ae592a",
   "metadata": {},
   "outputs": [
    {
     "data": {
      "text/plain": [
       "423419"
      ]
     },
     "execution_count": 4,
     "metadata": {},
     "output_type": "execute_result"
    }
   ],
   "source": [
    "len(my_text)"
   ]
  },
  {
   "cell_type": "code",
   "execution_count": null,
   "id": "19e9b564",
   "metadata": {},
   "outputs": [],
   "source": [
    "my_text=re.sub(r'\\n\\s"
   ]
  }
 ],
 "metadata": {
  "kernelspec": {
   "display_name": "Python 3 (ipykernel)",
   "language": "python",
   "name": "python3"
  },
  "language_info": {
   "codemirror_mode": {
    "name": "ipython",
    "version": 3
   },
   "file_extension": ".py",
   "mimetype": "text/x-python",
   "name": "python",
   "nbconvert_exporter": "python",
   "pygments_lexer": "ipython3",
   "version": "3.9.7"
  }
 },
 "nbformat": 4,
 "nbformat_minor": 5
}
