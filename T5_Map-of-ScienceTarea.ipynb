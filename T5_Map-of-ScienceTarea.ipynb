{
 "cells": [
  {
   "cell_type": "markdown",
   "id": "fab937e1",
   "metadata": {},
   "source": [
    "<img src=\"https://www.ikiam.edu.ec/img/logo-ikiam-grey.png\" width=300 height=240 />\n",
    "\n",
    "# T5_Map-of-ScienceTarea\n",
    "\n",
    "## GBI6-2021II: BIOINFORMÁTICA\n",
    "\n",
    "**Sánchez Chicaiza Jefferson Miguel**\n",
    "\n",
    "**16-02-2022**"
   ]
  },
  {
   "cell_type": "code",
   "execution_count": 119,
   "id": "031fdc47",
   "metadata": {},
   "outputs": [
    {
     "name": "stderr",
     "output_type": "stream",
     "text": [
      "Matplotlib is building the font cache; this may take a moment.\n"
     ]
    }
   ],
   "source": [
    "import pandas as pd\n",
    "import re\n",
    "import matplotlib.pyplot as plt\n",
    "import csv\n",
    "import itertools\n"
   ]
  },
  {
   "cell_type": "code",
   "execution_count": 112,
   "id": "8ea367c9",
   "metadata": {},
   "outputs": [
    {
     "name": "stdout",
     "output_type": "stream",
     "text": [
      "lista:  ['Australia', 'Austria', 'Brazil', 'Canada', 'Chile', 'China', 'Colombia', 'Denmark', 'France', 'Germany', 'Indonesia', 'Iran', 'Israel', 'Italy', 'Japan', 'Lebanon', 'Mexico', 'Norway', 'Pakistan', 'Poland', 'Singapore', 'Spain', 'Switzerland', 'Turkey', 'USA']\n"
     ]
    }
   ],
   "source": [
    "## Minado de Paises \n",
    "with open ('./pubmed-GDMheavyme-set.txt', encoding='utf-8-sig') as f:\n",
    "    info = f.read()\n",
    "\n",
    "info = re.sub(r'\\n\\s{6}', ' ', data)\n",
    "\n",
    "inf = re.findall (r\"\\,\\s[A-Z]+[A-z]{2,11}\\.\", data)\n",
    "unique_inf = list(set(dat))\n",
    "unique_inf.sort ()\n",
    "\n",
    "\n",
    "unique_inf.remove(', Inc.')\n",
    "unique_inf.remove(', Ste.')\n",
    "unique_inf.remove(', Calif.')\n",
    "unique_inf.remove(', Connecticut.')\n",
    "unique_inf.remove(', Illinois.')\n",
    "unique_inf.remove(', Ltd.')\n",
    "unique_inf.remove(', Oklahoma.')\n",
    "unique_inf.remove(', Tennessee.')\n",
    "\n",
    "\n",
    "a = \"\".join(unique_inf)\n",
    "b = a.split(\", \")\n",
    "c = \"\".join(b)\n",
    "fun = c.split(\".\")\n",
    "fun.remove(\"\")\n",
    "print(\"lista: \", d)  "
   ]
  },
  {
   "cell_type": "code",
   "execution_count": 114,
   "id": "3c277bc4",
   "metadata": {},
   "outputs": [
    {
     "data": {
      "text/plain": [
       "25"
      ]
     },
     "execution_count": 114,
     "metadata": {},
     "output_type": "execute_result"
    }
   ],
   "source": [
    "len(fun)"
   ]
  },
  {
   "cell_type": "code",
   "execution_count": 121,
   "id": "cd09c7c8",
   "metadata": {},
   "outputs": [
    {
     "data": {
      "text/html": [
       "<div>\n",
       "<style scoped>\n",
       "    .dataframe tbody tr th:only-of-type {\n",
       "        vertical-align: middle;\n",
       "    }\n",
       "\n",
       "    .dataframe tbody tr th {\n",
       "        vertical-align: top;\n",
       "    }\n",
       "\n",
       "    .dataframe thead th {\n",
       "        text-align: right;\n",
       "    }\n",
       "</style>\n",
       "<table border=\"1\" class=\"dataframe\">\n",
       "  <thead>\n",
       "    <tr style=\"text-align: right;\">\n",
       "      <th></th>\n",
       "      <th>country</th>\n",
       "      <th>latitude</th>\n",
       "      <th>longitude</th>\n",
       "      <th>name</th>\n",
       "    </tr>\n",
       "  </thead>\n",
       "  <tbody>\n",
       "    <tr>\n",
       "      <th>0</th>\n",
       "      <td>AD</td>\n",
       "      <td>42.546245</td>\n",
       "      <td>1.601554</td>\n",
       "      <td>Andorra</td>\n",
       "    </tr>\n",
       "    <tr>\n",
       "      <th>1</th>\n",
       "      <td>AE</td>\n",
       "      <td>23.424076</td>\n",
       "      <td>53.847818</td>\n",
       "      <td>United Arab Emirates</td>\n",
       "    </tr>\n",
       "    <tr>\n",
       "      <th>2</th>\n",
       "      <td>AF</td>\n",
       "      <td>33.939110</td>\n",
       "      <td>67.709953</td>\n",
       "      <td>Afghanistan</td>\n",
       "    </tr>\n",
       "    <tr>\n",
       "      <th>3</th>\n",
       "      <td>AG</td>\n",
       "      <td>17.060816</td>\n",
       "      <td>-61.796428</td>\n",
       "      <td>Antigua and Barbuda</td>\n",
       "    </tr>\n",
       "    <tr>\n",
       "      <th>4</th>\n",
       "      <td>AI</td>\n",
       "      <td>18.220554</td>\n",
       "      <td>-63.068615</td>\n",
       "      <td>Anguilla</td>\n",
       "    </tr>\n",
       "    <tr>\n",
       "      <th>5</th>\n",
       "      <td>AL</td>\n",
       "      <td>41.153332</td>\n",
       "      <td>20.168331</td>\n",
       "      <td>Albania</td>\n",
       "    </tr>\n",
       "    <tr>\n",
       "      <th>6</th>\n",
       "      <td>AM</td>\n",
       "      <td>40.069099</td>\n",
       "      <td>45.038189</td>\n",
       "      <td>Armenia</td>\n",
       "    </tr>\n",
       "    <tr>\n",
       "      <th>7</th>\n",
       "      <td>AN</td>\n",
       "      <td>12.226079</td>\n",
       "      <td>-69.060087</td>\n",
       "      <td>Netherlands Antilles</td>\n",
       "    </tr>\n",
       "    <tr>\n",
       "      <th>8</th>\n",
       "      <td>AO</td>\n",
       "      <td>-11.202692</td>\n",
       "      <td>17.873887</td>\n",
       "      <td>Angola</td>\n",
       "    </tr>\n",
       "    <tr>\n",
       "      <th>9</th>\n",
       "      <td>AQ</td>\n",
       "      <td>-75.250973</td>\n",
       "      <td>-0.071389</td>\n",
       "      <td>Antarctica</td>\n",
       "    </tr>\n",
       "    <tr>\n",
       "      <th>10</th>\n",
       "      <td>AR</td>\n",
       "      <td>-38.416097</td>\n",
       "      <td>-63.616672</td>\n",
       "      <td>Argentina</td>\n",
       "    </tr>\n",
       "    <tr>\n",
       "      <th>11</th>\n",
       "      <td>AS</td>\n",
       "      <td>-14.270972</td>\n",
       "      <td>-170.132217</td>\n",
       "      <td>American Samoa</td>\n",
       "    </tr>\n",
       "    <tr>\n",
       "      <th>12</th>\n",
       "      <td>AT</td>\n",
       "      <td>47.516231</td>\n",
       "      <td>14.550072</td>\n",
       "      <td>Austria</td>\n",
       "    </tr>\n",
       "    <tr>\n",
       "      <th>13</th>\n",
       "      <td>AU</td>\n",
       "      <td>-25.274398</td>\n",
       "      <td>133.775136</td>\n",
       "      <td>Australia</td>\n",
       "    </tr>\n",
       "    <tr>\n",
       "      <th>14</th>\n",
       "      <td>AW</td>\n",
       "      <td>12.521110</td>\n",
       "      <td>-69.968338</td>\n",
       "      <td>Aruba</td>\n",
       "    </tr>\n",
       "  </tbody>\n",
       "</table>\n",
       "</div>"
      ],
      "text/plain": [
       "   country   latitude   longitude                  name\n",
       "0       AD  42.546245    1.601554               Andorra\n",
       "1       AE  23.424076   53.847818  United Arab Emirates\n",
       "2       AF  33.939110   67.709953           Afghanistan\n",
       "3       AG  17.060816  -61.796428   Antigua and Barbuda\n",
       "4       AI  18.220554  -63.068615              Anguilla\n",
       "5       AL  41.153332   20.168331               Albania\n",
       "6       AM  40.069099   45.038189               Armenia\n",
       "7       AN  12.226079  -69.060087  Netherlands Antilles\n",
       "8       AO -11.202692   17.873887                Angola\n",
       "9       AQ -75.250973   -0.071389            Antarctica\n",
       "10      AR -38.416097  -63.616672             Argentina\n",
       "11      AS -14.270972 -170.132217        American Samoa\n",
       "12      AT  47.516231   14.550072               Austria\n",
       "13      AU -25.274398  133.775136             Australia\n",
       "14      AW  12.521110  -69.968338                 Aruba"
      ]
     },
     "execution_count": 121,
     "metadata": {},
     "output_type": "execute_result"
    }
   ],
   "source": [
    "data = pd.read_csv('./countryes_ubication.csv', engine='python', skipfooter=3)\n",
    "data.head(15)"
   ]
  }
 ],
 "metadata": {
  "kernelspec": {
   "display_name": "Python 3 (ipykernel)",
   "language": "python",
   "name": "python3"
  },
  "language_info": {
   "codemirror_mode": {
    "name": "ipython",
    "version": 3
   },
   "file_extension": ".py",
   "mimetype": "text/x-python",
   "name": "python",
   "nbconvert_exporter": "python",
   "pygments_lexer": "ipython3",
   "version": "3.9.7"
  }
 },
 "nbformat": 4,
 "nbformat_minor": 5
}
